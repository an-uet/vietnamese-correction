{
 "cells": [
  {
   "cell_type": "markdown",
   "metadata": {
    "id": "ggDnRC3ak7c4"
   },
   "source": [
    "# Setup"
   ]
  },
  {
   "cell_type": "code",
   "execution_count": null,
   "metadata": {
    "colab": {
     "base_uri": "https://localhost:8080/"
    },
    "id": "tOnnQcc8lHa8",
    "outputId": "5275284d-200a-41ac-af17-70216c2dbf0e"
   },
   "outputs": [],
   "source": [
    "from google.colab import drive\n",
    "drive.mount('/content/drive')"
   ]
  },
  {
   "cell_type": "code",
   "execution_count": null,
   "metadata": {
    "colab": {
     "base_uri": "https://localhost:8080/"
    },
    "id": "AqeXtfqyIUkU",
    "outputId": "ffd8a14a-e74d-49ba-f4f8-6616f29ac551"
   },
   "outputs": [],
   "source": [
    "!git clone https://github.com/bmd1905/Vietnamese-Corrector.git"
   ]
  },
  {
   "cell_type": "code",
   "execution_count": null,
   "metadata": {
    "colab": {
     "base_uri": "https://localhost:8080/"
    },
    "id": "Se-wX7sFIZFh",
    "outputId": "a1dea95f-cd67-4bdc-eef4-e63e013339b5"
   },
   "outputs": [],
   "source": [
    "cd /content/Vietnamese-Corrector"
   ]
  },
  {
   "cell_type": "code",
   "execution_count": null,
   "metadata": {
    "colab": {
     "base_uri": "https://localhost:8080/"
    },
    "id": "lx8XQhZhIm_x",
    "outputId": "fa32583d-84b9-49e6-c77c-5a60e6667bc7"
   },
   "outputs": [],
   "source": [
    "!pip install -q -r requirements.txt unidecode lion_pytorch"
   ]
  },
  {
   "cell_type": "markdown",
   "metadata": {
    "id": "D-h4bw5slDvU"
   },
   "source": [
    "# Create dataset"
   ]
  },
  {
   "cell_type": "code",
   "execution_count": null,
   "metadata": {
    "colab": {
     "base_uri": "https://localhost:8080/"
    },
    "id": "8_5pUcnZI0bk",
    "outputId": "1514d40a-4d2c-4f9d-f866-acdcb2f014da"
   },
   "outputs": [],
   "source": [
    "!python generate_dataset.py"
   ]
  },
  {
   "cell_type": "markdown",
   "metadata": {
    "id": "Lc5OTIB9lPog"
   },
   "source": [
    "## Copy files into Drive"
   ]
  },
  {
   "cell_type": "code",
   "execution_count": null,
   "metadata": {
    "id": "O57MGm_R7x_L"
   },
   "outputs": [],
   "source": [
    "!cp /content/Vietnamese-Corrector/vi.csv /content/drive/MyDrive"
   ]
  },
  {
   "cell_type": "code",
   "execution_count": null,
   "metadata": {
    "id": "6LCHLhhW76Gs"
   },
   "outputs": [],
   "source": [
    "!cp /content/Vietnamese-Corrector/vi.test.csv /content/drive/MyDrive"
   ]
  },
  {
   "cell_type": "code",
   "execution_count": null,
   "metadata": {
    "id": "nTOIBjy976KC"
   },
   "outputs": [],
   "source": [
    "!cp /content/Vietnamese-Corrector/vi.train.csv /content/drive/MyDrive"
   ]
  },
  {
   "cell_type": "markdown",
   "metadata": {
    "id": "kVp4GYazJIUO"
   },
   "source": [
    "# Training"
   ]
  },
  {
   "cell_type": "code",
   "execution_count": null,
   "metadata": {
    "colab": {
     "base_uri": "https://localhost:8080/"
    },
    "id": "8PWAu2rFucI_",
    "outputId": "60368fd9-c6dd-48ae-f653-e3cbf6d6ea01"
   },
   "outputs": [],
   "source": [
    "cd /content/drive/MyDrive"
   ]
  },
  {
   "cell_type": "code",
   "execution_count": null,
   "metadata": {
    "colab": {
     "base_uri": "https://localhost:8080/"
    },
    "id": "trXPWAuZFmrB",
    "outputId": "c214ff24-164e-4d5e-b99d-dd6b062ce6a5"
   },
   "outputs": [],
   "source": [
    "!python train.py \\\n",
    "    --model_name_or_path bmd1905/vietnamese-correction \\\n",
    "    --do_train \\\n",
    "    --do_eval \\\n",
    "    --evaluation_strategy=\"steps\" \\\n",
    "    --eval_steps=10000 \\\n",
    "    --train_file vi.train.csv \\\n",
    "    --validation_file vi.test.csv \\\n",
    "    --output_dir models/my-vietnamese-correction \\\n",
    "    --overwrite_output_dir \\\n",
    "    --per_device_train_batch_size=4 \\\n",
    "    --per_device_eval_batch_size=4 \\\n",
    "    --gradient_accumulation_steps=32 \\\n",
    "    --learning_rate=\"1e-4\" \\\n",
    "    --num_train_epochs=2 \\\n",
    "    --predict_with_generate \\\n",
    "\t--logging_steps=\"10\" \\\n",
    "    --save_total_limit=\"2\" \\\n",
    "    --max_target_length=1024 \\\n",
    "    --max_source_length=1024 \\\n",
    "    --fp16"
   ]
  },
  {
   "cell_type": "markdown",
   "metadata": {
    "id": "ZRwTi1ITlXeq"
   },
   "source": [
    "# Inference"
   ]
  },
  {
   "cell_type": "code",
   "execution_count": 1,
   "metadata": {
    "id": "QxlfzlsH0DYa",
    "ExecuteTime": {
     "end_time": "2023-10-04T08:30:06.789616798Z",
     "start_time": "2023-10-04T08:30:06.464310676Z"
    }
   },
   "outputs": [
    {
     "ename": "ModuleNotFoundError",
     "evalue": "No module named 'transformers'",
     "output_type": "error",
     "traceback": [
      "\u001B[0;31m---------------------------------------------------------------------------\u001B[0m",
      "\u001B[0;31mModuleNotFoundError\u001B[0m                       Traceback (most recent call last)",
      "Cell \u001B[0;32mIn [1], line 1\u001B[0m\n\u001B[0;32m----> 1\u001B[0m \u001B[38;5;28;01mfrom\u001B[39;00m \u001B[38;5;21;01mtransformers\u001B[39;00m \u001B[38;5;28;01mimport\u001B[39;00m pipeline\n\u001B[1;32m      3\u001B[0m corrector \u001B[38;5;241m=\u001B[39m pipeline(\u001B[38;5;124m\"\u001B[39m\u001B[38;5;124mtext2text-generation\u001B[39m\u001B[38;5;124m\"\u001B[39m, model\u001B[38;5;241m=\u001B[39m\u001B[38;5;124m\"\u001B[39m\u001B[38;5;124mbmd1905/vietnamese-correction\u001B[39m\u001B[38;5;124m\"\u001B[39m)\n",
      "\u001B[0;31mModuleNotFoundError\u001B[0m: No module named 'transformers'"
     ]
    }
   ],
   "source": [
    "from transformers import pipeline\n",
    "\n",
    "corrector = pipeline(\"text2text-generation\", model=\"bmd1905/vietnamese-correction\")"
   ]
  },
  {
   "cell_type": "code",
   "execution_count": null,
   "metadata": {
    "colab": {
     "base_uri": "https://localhost:8080/"
    },
    "id": "opWEjdu7Mi7O",
    "outputId": "4d26f523-f6c1-48a5-e0ab-2e40985fb733"
   },
   "outputs": [],
   "source": [
    "print(corrector(\"côn viec kin doanh thì rất kho khan nên toi quyết dinh chuyển sang nghê khac  \", max_length=128))\n",
    "print(corrector(\"toi dang là sinh diên nem hay ở truong đạ hoc khoa jọc tự nhiên , trogn năm ke tiep toi sẽ chọn chuyen nganh về trí tue nhana tạo\", max_length=128))\n",
    "print(corrector(\"Tôi , đang học AI ở trun tam AI viet nam . \", max_length=128))\n",
    "print(corrector(\"Nhưng sức huỷ divt của cơn bão mitch vẫn chưa thấm vào đâu lsovớithảm hoạ tại Bangladesh ăm 1970 \", max_length=128))\n",
    "print(corrector(\"Lần này anh Phươngqyết xếp hàng mua bằng được 1 chiếc\", max_length=128))\n",
    "print(corrector(\"một số chuyen gia tài chính ngâSn hànG của Việt Nam cũng chung quan điểmnày\", max_length=128))"
   ]
  },
  {
   "cell_type": "code",
   "execution_count": null,
   "metadata": {},
   "outputs": [],
   "source": []
  }
 ],
 "metadata": {
  "accelerator": "GPU",
  "colab": {
   "provenance": []
  },
  "gpuClass": "standard",
  "kernelspec": {
   "display_name": "Python 3 (ipykernel)",
   "language": "python",
   "name": "python3"
  },
  "language_info": {
   "codemirror_mode": {
    "name": "ipython",
    "version": 3
   },
   "file_extension": ".py",
   "mimetype": "text/x-python",
   "name": "python",
   "nbconvert_exporter": "python",
   "pygments_lexer": "ipython3",
   "version": "3.9.16"
  },
  "vscode": {
   "interpreter": {
    "hash": "3b7a843eca1cab639b36c3fbecef55435faf57387ff90456c4ff67b93cd6a8d2"
   }
  }
 },
 "nbformat": 4,
 "nbformat_minor": 4
}
